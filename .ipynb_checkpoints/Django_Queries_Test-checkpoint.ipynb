{
 "cells": [
  {
   "cell_type": "code",
   "execution_count": 2,
   "id": "7bbaf4d9",
   "metadata": {},
   "outputs": [],
   "source": [
    "import os\n",
    "os.environ[\"DJANGO_ALLOW_ASYNC_UNSAFE\"] = \"true\""
   ]
  },
  {
   "cell_type": "code",
   "execution_count": 3,
   "id": "4847fcc0",
   "metadata": {},
   "outputs": [],
   "source": [
    "from Store.models import *"
   ]
  },
  {
   "cell_type": "code",
   "execution_count": 4,
   "id": "202564a8",
   "metadata": {},
   "outputs": [
    {
     "data": {
      "text/plain": [
       "<QuerySet [<Product: Pets : Bread Ww Cluster - mus vivamus vestibulum sagittis sapien cum sociis natoque penatibus et magnis dis parturient montes nascetur ridiculus>, <Product: Beauty : Island Oasis - Raspberry - maecenas tincidunt lacus at velit vivamus vel nulla eget eros elementum pellentesque>, <Product: Beauty : Shrimp - 21/25, Peel And Deviened - nisi volutpat eleifend donec ut dolor morbi vel lectus in quam>, <Product: Stationary : Wood Chips - Regular - posuere cubilia curae nulla dapibus dolor vel est donec odio justo sollicitudin ut>, <Product: Stationary : Lettuce - Mini Greens, Whole - lectus in est risus auctor sed tristique in tempus sit amet sem fusce consequat nulla nisl nunc>, <Product: Pets : Mustard - Individual Pkg - pellentesque volutpat dui maecenas tristique est et tempus semper est quam pharetra magna>, <Product: Cleaning : Turkey Tenderloin Frozen - sit amet erat nulla tempus vivamus in felis eu sapien cursus vestibulum proin eu mi nulla ac enim>, <Product: Pets : Silicone Parch. 16.3x24.3 - faucibus orci luctus et ultrices posuere cubilia curae duis faucibus accumsan odio curabitur convallis duis>, <Product: Stationary : Tomatoes - Cherry, Yellow - sapien cursus vestibulum proin eu mi nulla ac enim in tempor turpis nec euismod scelerisque quam turpis adipiscing>, <Product: Stationary : Sloe Gin - Mcguinness - fringilla rhoncus mauris enim leo rhoncus sed vestibulum sit amet cursus id turpis integer aliquet massa>, <Product: Pets : Wine - Magnotta - Belpaese - ut massa volutpat convallis morbi odio odio elementum eu interdum eu tincidunt in leo>, <Product: Beauty : Beer - Alexander Kieths, Pale Ale - nisl aenean lectus pellentesque eget nunc donec quis orci eget orci vehicula condimentum curabitur in libero ut massa>, <Product: Pets : Basil - Thai - rhoncus aliquam lacus morbi quis tortor id nulla ultrices aliquet maecenas leo odio condimentum>, <Product: Cleaning : Tofu - Soft - at vulputate vitae nisl aenean lectus pellentesque eget nunc donec quis orci eget orci vehicula>, <Product: Cleaning : Mayonnaise - Individual Pkg - id luctus nec molestie sed justo pellentesque viverra pede ac diam cras pellentesque volutpat dui maecenas tristique est et>, <Product: Pets : Sauce - Hollandaise - blandit lacinia erat vestibulum sed magna at nunc commodo placerat praesent blandit nam nulla integer pede>, <Product: Beauty : Salt - Rock, Course - congue etiam justo etiam pretium iaculis justo in hac habitasse platea dictumst etiam faucibus cursus urna ut tellus nulla ut>, <Product: Cleaning : Beef - Ox Tail, Frozen - donec pharetra magna vestibulum aliquet ultrices erat tortor sollicitudin mi sit amet lobortis sapien sapien>, <Product: Stationary : Schnappes - Peach, Walkers - phasellus in felis donec semper sapien a libero nam dui proin leo odio porttitor id consequat in>, <Product: Beauty : Cheese - Parmesan Cubes - ut nunc vestibulum ante ipsum primis in faucibus orci luctus et ultrices posuere cubilia curae mauris viverra>, '...(remaining elements truncated)...']>"
      ]
     },
     "execution_count": 4,
     "metadata": {},
     "output_type": "execute_result"
    }
   ],
   "source": [
    "Product.objects.all()"
   ]
  },
  {
   "cell_type": "code",
   "execution_count": null,
   "id": "788db7dc",
   "metadata": {},
   "outputs": [],
   "source": []
  }
 ],
 "metadata": {
  "kernelspec": {
   "display_name": "Django Shell-Plus",
   "language": "python",
   "name": "django_extensions"
  },
  "language_info": {
   "codemirror_mode": {
    "name": "ipython",
    "version": 3
   },
   "file_extension": ".py",
   "mimetype": "text/x-python",
   "name": "python",
   "nbconvert_exporter": "python",
   "pygments_lexer": "ipython3",
   "version": "3.8.10"
  }
 },
 "nbformat": 4,
 "nbformat_minor": 5
}
